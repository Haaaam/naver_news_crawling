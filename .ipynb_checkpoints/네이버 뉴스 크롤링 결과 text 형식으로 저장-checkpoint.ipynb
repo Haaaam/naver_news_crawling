{
 "cells": [
  {
   "cell_type": "markdown",
   "metadata": {},
   "source": [
    "### 네이버 뉴스 검색"
   ]
  },
  {
   "cell_type": "code",
   "execution_count": 1,
   "metadata": {},
   "outputs": [
    {
     "data": {
      "text/html": [
       "<div>\n",
       "<style scoped>\n",
       "    .dataframe tbody tr th:only-of-type {\n",
       "        vertical-align: middle;\n",
       "    }\n",
       "\n",
       "    .dataframe tbody tr th {\n",
       "        vertical-align: top;\n",
       "    }\n",
       "\n",
       "    .dataframe thead th {\n",
       "        text-align: right;\n",
       "    }\n",
       "</style>\n",
       "<table border=\"1\" class=\"dataframe\">\n",
       "  <thead>\n",
       "    <tr style=\"text-align: right;\">\n",
       "      <th></th>\n",
       "      <th>제목</th>\n",
       "      <th>내용</th>\n",
       "    </tr>\n",
       "  </thead>\n",
       "  <tbody>\n",
       "    <tr>\n",
       "      <th>0</th>\n",
       "      <td>'코로나 확진' 가락시장·강남역 지하상가 폐쇄</td>\n",
       "      <td>시민의 발인 지하철 강남역도 코로나에 뚫렸습니다. 정주영 기자입니다. 【 기자 ...</td>\n",
       "    </tr>\n",
       "    <tr>\n",
       "      <th>1</th>\n",
       "      <td>'미화원 확진' 강남역 지하상가 오늘까지 폐쇄</td>\n",
       "      <td>강남역 지하도 상가가 오늘(10일) 밤 12시까지 폐쇄됩니다. 상가관리소 소속 ...</td>\n",
       "    </tr>\n",
       "    <tr>\n",
       "      <th>2</th>\n",
       "      <td>강남역 지하도상가 코로나19 확진자 발생</td>\n",
       "      <td>서울시와 서울시설공단은 지난 9일 강남역 지하도상가 환경미화원 1명이 신종 코로...</td>\n",
       "    </tr>\n",
       "    <tr>\n",
       "      <th>3</th>\n",
       "      <td>강남역 지하도상가 폐쇄…미화원 코로나19 확진</td>\n",
       "      <td>서울 강남 대표 번화가인 강남역 지하도상가가 폐쇄된다. 신종 코로나바이러스 감염...</td>\n",
       "    </tr>\n",
       "    <tr>\n",
       "      <th>4</th>\n",
       "      <td>서울 강남역 지하상가 내일밤까지 폐쇄…미화원 확진</td>\n",
       "      <td>12시까지 강남역지하도상가를 폐쇄한다고 밝혔습니다. 강남지하도상가관리소 소속 환...</td>\n",
       "    </tr>\n",
       "    <tr>\n",
       "      <th>5</th>\n",
       "      <td>강남역 확진자 나와도…먹고 살려고 지하철 탑니다</td>\n",
       "      <td>서울지하철 8호선 기관사, 강남역 환경미화원 등 확진 사례가 나오자 시민들은 불...</td>\n",
       "    </tr>\n",
       "    <tr>\n",
       "      <th>6</th>\n",
       "      <td>'코로나 확진' 가락시장·강남역 지하상가 폐쇄</td>\n",
       "      <td>시민의 발인 지하철 강남역도 코로나에 뚫렸습니다. 정주영 기자입니다. 【 기자 ...</td>\n",
       "    </tr>\n",
       "    <tr>\n",
       "      <th>7</th>\n",
       "      <td>서울 다중시설 곳곳서 감염…가락몰·강남역 폐쇄</td>\n",
       "      <td>강남역 지하도상가에서는 환경미화원 1명이 확진돼, 어제 오후 5시쯤부터 상가 전...</td>\n",
       "    </tr>\n",
       "    <tr>\n",
       "      <th>8</th>\n",
       "      <td>'코로나19' 강남역도 뚫렸다…시민들 \"불안해도 안탈 수 있나\"</td>\n",
       "      <td>서울지하철 8호선 기관사, 강남역 환경미화원 등 확진 사례가 나오자 시민들은 불...</td>\n",
       "    </tr>\n",
       "    <tr>\n",
       "      <th>9</th>\n",
       "      <td>[포토] 확진자 나온 서울 강남역 지하상가 일시 폐쇄</td>\n",
       "      <td>9일 신종 코로나바이러스 감염증(코로나19) 확진 판정을 받았다. 공단은 시민 ...</td>\n",
       "    </tr>\n",
       "  </tbody>\n",
       "</table>\n",
       "</div>"
      ],
      "text/plain": [
       "                                    제목  \\\n",
       "0            '코로나 확진' 가락시장·강남역 지하상가 폐쇄   \n",
       "1            '미화원 확진' 강남역 지하상가 오늘까지 폐쇄   \n",
       "2               강남역 지하도상가 코로나19 확진자 발생   \n",
       "3            강남역 지하도상가 폐쇄…미화원 코로나19 확진   \n",
       "4          서울 강남역 지하상가 내일밤까지 폐쇄…미화원 확진   \n",
       "5           강남역 확진자 나와도…먹고 살려고 지하철 탑니다   \n",
       "6            '코로나 확진' 가락시장·강남역 지하상가 폐쇄   \n",
       "7            서울 다중시설 곳곳서 감염…가락몰·강남역 폐쇄   \n",
       "8  '코로나19' 강남역도 뚫렸다…시민들 \"불안해도 안탈 수 있나\"   \n",
       "9        [포토] 확진자 나온 서울 강남역 지하상가 일시 폐쇄   \n",
       "\n",
       "                                                  내용  \n",
       "0    시민의 발인 지하철 강남역도 코로나에 뚫렸습니다. 정주영 기자입니다. 【 기자 ...  \n",
       "1    강남역 지하도 상가가 오늘(10일) 밤 12시까지 폐쇄됩니다. 상가관리소 소속 ...  \n",
       "2    서울시와 서울시설공단은 지난 9일 강남역 지하도상가 환경미화원 1명이 신종 코로...  \n",
       "3    서울 강남 대표 번화가인 강남역 지하도상가가 폐쇄된다. 신종 코로나바이러스 감염...  \n",
       "4    12시까지 강남역지하도상가를 폐쇄한다고 밝혔습니다. 강남지하도상가관리소 소속 환...  \n",
       "5    서울지하철 8호선 기관사, 강남역 환경미화원 등 확진 사례가 나오자 시민들은 불...  \n",
       "6    시민의 발인 지하철 강남역도 코로나에 뚫렸습니다. 정주영 기자입니다. 【 기자 ...  \n",
       "7    강남역 지하도상가에서는 환경미화원 1명이 확진돼, 어제 오후 5시쯤부터 상가 전...  \n",
       "8    서울지하철 8호선 기관사, 강남역 환경미화원 등 확진 사례가 나오자 시민들은 불...  \n",
       "9    9일 신종 코로나바이러스 감염증(코로나19) 확진 판정을 받았다. 공단은 시민 ...  "
      ]
     },
     "execution_count": 1,
     "metadata": {},
     "output_type": "execute_result"
    }
   ],
   "source": [
    "import requests\n",
    "from bs4 import BeautifulSoup as bs\n",
    "import pandas as pd\n",
    "url='https://search.naver.com/search.naver?where=news&sm=tab_jum&query=%EA%B0%95%EB%82%A8%EC%97%AD'\n",
    "html=requests.get(url)\n",
    "soup=bs(html.content, 'html.parser')\n",
    "li_tmp=soup.find_all('li',{'class':'bx'})\n",
    "#div_tmp=soup.find_all('div',{'class','news_area'})\n",
    "\n",
    "data=[]\n",
    "for i in li_tmp:\n",
    "    try:\n",
    "         \n",
    "        tit=i.find('a',{'class':'news_tit'}).text\n",
    "        dsc=i.find('div',{'class':'news_dsc'}).text\n",
    "\n",
    "        data.append([tit,dsc])\n",
    "    except:\n",
    "        continue\n",
    "    \n",
    "df1=pd.DataFrame(data,columns=['제목','내용'])\n",
    "df1"
   ]
  },
  {
   "cell_type": "markdown",
   "metadata": {},
   "source": [
    "### csv 형식으로 저장"
   ]
  },
  {
   "cell_type": "code",
   "execution_count": 24,
   "metadata": {},
   "outputs": [],
   "source": [
    "import requests\n",
    "from urllib.parse import quote_plus\n",
    "from bs4 import BeautifulSoup as bs\n",
    "import pandas as pd"
   ]
  },
  {
   "cell_type": "code",
   "execution_count": null,
   "metadata": {},
   "outputs": [],
   "source": [
    "import requests\n",
    "from urllib.parse import quote_plus\n",
    "from bs4 import BeautifulSoup as bs\n",
    "import pandas as pd\n",
    "\n",
    "\n",
    "def Sol(query):\n",
    "    url='https://search.naver.com/search.naver?where=news&sm=tab_jum&query='+query\n",
    "    \n",
    "    html=requests.get(url)\n",
    "    soup=bs(html.content, 'html.parser')\n",
    "    li_tmp=soup.find_all('li',{'class':'bx'})\n",
    "    #div_tmp=soup.find_all('div',{'class','news_area'})\n",
    "    \n",
    "    data=[]\n",
    "    for i in li_tmp:\n",
    "        try:\n",
    "         \n",
    "            tit=i.find('a',{'class':'news_tit'}).text\n",
    "            dsc=i.find('div',{'class':'news_dsc'}).text\n",
    "\n",
    "            data.append([tit,dsc])\n",
    "        except:\n",
    "            continue\n",
    "    \n",
    "    df1=pd.DataFrame(data,columns=['제목','내용'])\n",
    "    display(df1)\n",
    "    df1.to_csv('./data/'+query+'.csv') "
   ]
  },
  {
   "cell_type": "code",
   "execution_count": null,
   "metadata": {},
   "outputs": [],
   "source": [
    "query=input(\"검색할 데이터를 입력하세요: \")\n",
    "Sol(query)"
   ]
  },
  {
   "cell_type": "markdown",
   "metadata": {},
   "source": [
    "### text 형식으로 저장"
   ]
  },
  {
   "cell_type": "code",
   "execution_count": 2,
   "metadata": {},
   "outputs": [],
   "source": [
    "def Sol(query):\n",
    "    url='https://search.naver.com/search.naver?where=news&sm=tab_jum&query='+query\n",
    "    \n",
    "    html=requests.get(url)\n",
    "    soup=bs(html.content, 'html.parser')\n",
    "    li_tmp=soup.find_all('li',{'class':'bx'})\n",
    "    #div_tmp=soup.find_all('div',{'class','news_area'})\n",
    "    \n",
    "    \n",
    "    txts=open('./data/'+query+'.txt','w')\n",
    "    for i in li_tmp:\n",
    "        try:\n",
    "         \n",
    "            tit=i.find('a',{'class':'news_tit'}).text\n",
    "            dsc=i.find('div',{'class':'news_dsc'}).text\n",
    "\n",
    "            txts.write(tit+': '+dsc+'\\n')\n",
    "        except:\n",
    "            continue\n",
    "    txts.close()"
   ]
  },
  {
   "cell_type": "code",
   "execution_count": 3,
   "metadata": {
    "scrolled": true
   },
   "outputs": [
    {
     "name": "stdout",
     "output_type": "stream",
     "text": [
      "검색할 데이터를 입력하세요: 강남역\n"
     ]
    }
   ],
   "source": [
    "query=input(\"검색할 데이터를 입력하세요: \")\n",
    "Sol(query)"
   ]
  },
  {
   "cell_type": "markdown",
   "metadata": {},
   "source": [
    "### txt파일 읽어오기\n",
    "- readline()함수 이용하기\n",
    "- readline 함수 사용하기\n"
   ]
  },
  {
   "cell_type": "code",
   "execution_count": 18,
   "metadata": {},
   "outputs": [
    {
     "name": "stdout",
     "output_type": "stream",
     "text": [
      "'코로나 확진' 가락시장·강남역 지하상가 폐쇄:   시민의 발인 지하철 강남역도 코로나에 뚫렸습니다. 정주영 기자입니다. 【 기자 】 국내 최대 농수산물... 걱정이에요.\" 하루 평균 이용객이 14만 명에 달하는 서울 강남역 지하상가가 썰렁합니다. 환경미화원 1명이... \n",
      "\n",
      "'미화원 확진' 강남역 지하상가 오늘까지 폐쇄:   강남역 지하도 상가가 오늘(10일) 밤 12시까지 폐쇄됩니다. 상가관리소 소속 환경미화원 1명이 어제(9일) 확진 판정을 받은 데 따른 조치입니다. 서울시와 서울시설공단은 강남역 지하도 상가 전 구역에 소독과 방역작업을... \n",
      "\n"
     ]
    }
   ],
   "source": [
    "# readline(): 한줄만 읽어옴\n",
    "\n",
    "f=open('./data/강남역.txt','r')\n",
    "\n",
    "txt=f.readline()\n",
    "print(txt)\n",
    "txt=f.readline()\n",
    "print(txt)\n",
    "f.close()"
   ]
  },
  {
   "cell_type": "code",
   "execution_count": 22,
   "metadata": {},
   "outputs": [
    {
     "name": "stdout",
     "output_type": "stream",
     "text": [
      "'코로나 확진' 가락시장·강남역 지하상가 폐쇄:   시민의 발인 지하철 강남역도 코로나에 뚫렸습니다. 정주영 기자입니다. 【 기자 】 국내 최대 농수산물... 걱정이에요.\" 하루 평균 이용객이 14만 명에 달하는 서울 강남역 지하상가가 썰렁합니다. 환경미화원 1명이... \n",
      "\n",
      "'미화원 확진' 강남역 지하상가 오늘까지 폐쇄:   강남역 지하도 상가가 오늘(10일) 밤 12시까지 폐쇄됩니다. 상가관리소 소속 환경미화원 1명이 어제(9일) 확진 판정을 받은 데 따른 조치입니다. 서울시와 서울시설공단은 강남역 지하도 상가 전 구역에 소독과 방역작업을... \n",
      "\n",
      "강남역 지하도상가 코로나19 확진자 발생:   서울시와 서울시설공단은 지난 9일 강남역 지하도상가 환경미화원 1명이 신종 코로나바이러스 감염증(코로나19) 확진 판정을 받음에 따라, 10일 자정까지 시민비상 이동통로를 제외한 강남역 전구역을... \n",
      "\n",
      "강남역 지하도상가 폐쇄…미화원 코로나19 확진:   서울 강남 대표 번화가인 강남역 지하도상가가 폐쇄된다. 신종 코로나바이러스 감염증(코로나19) 확진자가 나와서다. 9일 서울시와 서울시설공단에 따르면 오는 10일 밤 12시까지 강남역지하도상가를 폐쇄한다. 폐쇄... \n",
      "\n",
      "서울 강남역 지하상가 내일밤까지 폐쇄…미화원 확진:   12시까지 강남역지하도상가를 폐쇄한다고 밝혔습니다. 강남지하도상가관리소 소속 환경미화원 1명이 9일 서초구보건소로부터 코로나19 확진 통보를 받은 데 따른 것입니다. 서울시와 공단은 강남역 지하도상가 전... \n",
      "\n",
      "'코로나 확진' 가락시장·강남역 지하상가 폐쇄:   시민의 발인 지하철 강남역도 코로나에 뚫렸습니다. 정주영 기자입니다. 【 기자 】 국내 최대 농수산물... 걱정이에요.\" 하루 평균 이용객이 14만 명에 달하는 서울 강남역 지하상가가 썰렁합니다. 환경미화원 1명이... \n",
      "\n",
      "'코로나19' 강남역도 뚫렸다…시민들 \"불안해도 안탈 수 있나\":   서울지하철 8호선 기관사, 강남역 환경미화원 등 확진 사례가 나오자 시민들은 불안감 속에서도 \"어쩔 수 없다\"며 대중교통을 이용하고 있었다. 10일 오전 9시쯤 폐쇄된 지하상가를 거쳐 강남역을 이용하고 있던 시민들은... \n",
      "\n",
      "서울 다중시설 곳곳서 감염…가락몰·강남역 폐쇄:   강남역 지하도상가에서는 환경미화원 1명이 확진돼, 어제 오후 5시쯤부터 상가 전체가 폐쇄됐습니다. 이곳 역시 우선 오늘 밤까지 폐쇄조치가 계속됩니다. 다만 이동을 위해 비상 통로는 이용할 수 있습니다. 서울시는... \n",
      "\n",
      "강남역 확진자 나와도…먹고 살려고 지하철 탑니다:   서울지하철 8호선 기관사, 강남역 환경미화원 등 확진 사례가 나오자 시민들은 불안감 속에서도 \"어쩔 수 없다\"며 대중교통을 이용하고 있었다. 10일 오전 9시쯤 폐쇄된 지하상가를 거쳐 강남역을 이용하고 있던 시민들은... \n",
      "\n",
      "[포토] 확진자 나온 서울 강남역 지하상가 일시 폐쇄:   9일 신종 코로나바이러스 감염증(코로나19) 확진 판정을 받았다. 공단은 시민 비상이동로를 제외한 강남역 지하도상가 전 구역을 10일 밤 12시까지 폐쇄했다. 시민들이 폐쇄된 강남역 지하도상가를 지나쳐 걸어가고 있다. \n",
      "\n"
     ]
    }
   ],
   "source": [
    "f=open('./data/강남역.txt','r')\n",
    "while True:\n",
    "    txt=f.readline()\n",
    "    if not txt:\n",
    "        break\n",
    "    print(txt)\n",
    "f.close()"
   ]
  }
 ],
 "metadata": {
  "kernelspec": {
   "display_name": "Python 3",
   "language": "python",
   "name": "python3"
  },
  "language_info": {
   "codemirror_mode": {
    "name": "ipython",
    "version": 3
   },
   "file_extension": ".py",
   "mimetype": "text/x-python",
   "name": "python",
   "nbconvert_exporter": "python",
   "pygments_lexer": "ipython3",
   "version": "3.9.1"
  }
 },
 "nbformat": 4,
 "nbformat_minor": 4
}
