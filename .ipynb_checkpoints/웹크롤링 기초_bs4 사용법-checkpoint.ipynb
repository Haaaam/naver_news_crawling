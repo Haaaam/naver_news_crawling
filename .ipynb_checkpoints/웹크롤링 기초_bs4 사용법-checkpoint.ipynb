{
 "cells": [
  {
   "cell_type": "code",
   "execution_count": 1,
   "metadata": {},
   "outputs": [],
   "source": [
    "from bs4 import BeautifulSoup as bs\n"
   ]
  },
  {
   "cell_type": "code",
   "execution_count": 5,
   "metadata": {},
   "outputs": [],
   "source": [
    "html_str = \"\"\"\n",
    "<html>\n",
    "    <body>\n",
    "        <ul class=\"greet\">\n",
    "            <li>hello</li>\n",
    "            <li>bye</li>\n",
    "            <li>welcome</li>\n",
    "        </ul>\n",
    "        <ul class=\"reply\">\n",
    "            <li>ok</li>\n",
    "            <li>no</li>\n",
    "            <li>sure</li>\n",
    "        </ul>\n",
    "        <div>\n",
    "            <ul>\n",
    "                <li>open</li>\n",
    "                <li>close</li>\n",
    "            </ul>\n",
    "        </div>\n",
    "    </body>\n",
    "</html>\n",
    "\"\"\"\n"
   ]
  },
  {
   "cell_type": "code",
   "execution_count": 6,
   "metadata": {},
   "outputs": [
    {
     "name": "stdout",
     "output_type": "stream",
     "text": [
      "\n",
      "<html>\n",
      "    <body>\n",
      "        <ul class=\"greet\">\n",
      "            <li>hello</li>\n",
      "            <li>bye</li>\n",
      "            <li>welcome</li>\n",
      "        </ul>\n",
      "        <ul class=\"reply\">\n",
      "            <li>ok</li>\n",
      "            <li>no</li>\n",
      "            <li>sure</li>\n",
      "        </ul>\n",
      "        <div>\n",
      "            <ul>\n",
      "                <li>open</li>\n",
      "                <li>close</li>\n",
      "            </ul>\n",
      "        </div>\n",
      "    </body>\n",
      "</html>\n",
      "\n"
     ]
    }
   ],
   "source": [
    "print(html_str)"
   ]
  },
  {
   "cell_type": "code",
   "execution_count": 7,
   "metadata": {},
   "outputs": [
    {
     "name": "stdout",
     "output_type": "stream",
     "text": [
      "\n",
      "<html>\n",
      "<body>\n",
      "<ul class=\"greet\">\n",
      "<li>hello</li>\n",
      "<li>bye</li>\n",
      "<li>welcome</li>\n",
      "</ul>\n",
      "<ul class=\"reply\">\n",
      "<li>ok</li>\n",
      "<li>no</li>\n",
      "<li>sure</li>\n",
      "</ul>\n",
      "<div>\n",
      "<ul>\n",
      "<li>open</li>\n",
      "<li>close</li>\n",
      "</ul>\n",
      "</div>\n",
      "</body>\n",
      "</html>\n",
      "\n"
     ]
    }
   ],
   "source": [
    "bs_obj=bs(html_str,'html.parser')#필요없는 문자열들을 빼버리는 작업\n",
    "print(bs_obj)"
   ]
  },
  {
   "cell_type": "code",
   "execution_count": 8,
   "metadata": {},
   "outputs": [
    {
     "data": {
      "text/plain": [
       "<ul class=\"greet\">\n",
       "<li>hello</li>\n",
       "<li>bye</li>\n",
       "<li>welcome</li>\n",
       "</ul>"
      ]
     },
     "execution_count": 8,
     "metadata": {},
     "output_type": "execute_result"
    }
   ],
   "source": [
    "ulTxt1=bs_obj.find('ul')\n",
    "ulTxt1"
   ]
  },
  {
   "cell_type": "code",
   "execution_count": 11,
   "metadata": {},
   "outputs": [
    {
     "data": {
      "text/plain": [
       "<ul class=\"reply\">\n",
       "<li>ok</li>\n",
       "<li>no</li>\n",
       "<li>sure</li>\n",
       "</ul>"
      ]
     },
     "execution_count": 11,
     "metadata": {},
     "output_type": "execute_result"
    }
   ],
   "source": [
    "ulTxt2=bs_obj.find('ul',{'class':'reply'})\n",
    "ulTxt2"
   ]
  },
  {
   "cell_type": "code",
   "execution_count": 17,
   "metadata": {},
   "outputs": [
    {
     "name": "stdout",
     "output_type": "stream",
     "text": [
      "[<ul class=\"greet\">\n",
      "<li>hello</li>\n",
      "<li>bye</li>\n",
      "<li>welcome</li>\n",
      "</ul>, <ul class=\"reply\">\n",
      "<li>ok</li>\n",
      "<li>no</li>\n",
      "<li>sure</li>\n",
      "</ul>, <ul>\n",
      "<li>open</li>\n",
      "<li>close</li>\n",
      "</ul>]\n",
      "3\n"
     ]
    }
   ],
   "source": [
    "ulTxt3=bs_obj.findAll('ul') #findAll('ul'): bs_obj에 있는 모든 ul 태그를 찾아 리스트로 만들어줌\n",
    "print(ulTxt3)\n",
    "print(len(ulTxt3))"
   ]
  },
  {
   "cell_type": "code",
   "execution_count": 19,
   "metadata": {},
   "outputs": [
    {
     "data": {
      "text/plain": [
       "'\\nhello\\nbye\\nwelcome\\n'"
      ]
     },
     "execution_count": 19,
     "metadata": {},
     "output_type": "execute_result"
    }
   ],
   "source": [
    "ulTxt3[0].text"
   ]
  },
  {
   "cell_type": "code",
   "execution_count": 20,
   "metadata": {},
   "outputs": [],
   "source": [
    "liTxt1=ulTxt3[0].find('li')"
   ]
  },
  {
   "cell_type": "code",
   "execution_count": 21,
   "metadata": {},
   "outputs": [
    {
     "data": {
      "text/plain": [
       "<li>hello</li>"
      ]
     },
     "execution_count": 21,
     "metadata": {},
     "output_type": "execute_result"
    }
   ],
   "source": [
    "liTxt1"
   ]
  },
  {
   "cell_type": "code",
   "execution_count": 24,
   "metadata": {},
   "outputs": [],
   "source": [
    "liTxt=ulTxt3[0].findAll('li')#가장 첫번째 li만 찾아 출력"
   ]
  },
  {
   "cell_type": "code",
   "execution_count": 25,
   "metadata": {},
   "outputs": [
    {
     "data": {
      "text/plain": [
       "[<li>hello</li>, <li>bye</li>, <li>welcome</li>]"
      ]
     },
     "execution_count": 25,
     "metadata": {},
     "output_type": "execute_result"
    }
   ],
   "source": [
    "liTxt"
   ]
  },
  {
   "cell_type": "code",
   "execution_count": 27,
   "metadata": {},
   "outputs": [],
   "source": [
    "liTxt2=ulTxt3[0].find_all('li')"
   ]
  },
  {
   "cell_type": "code",
   "execution_count": 28,
   "metadata": {},
   "outputs": [
    {
     "data": {
      "text/plain": [
       "[<li>hello</li>, <li>bye</li>, <li>welcome</li>]"
      ]
     },
     "execution_count": 28,
     "metadata": {},
     "output_type": "execute_result"
    }
   ],
   "source": [
    "liTxt2"
   ]
  },
  {
   "cell_type": "code",
   "execution_count": 30,
   "metadata": {},
   "outputs": [
    {
     "name": "stdout",
     "output_type": "stream",
     "text": [
      "hello\n",
      "bye\n",
      "welcome\n"
     ]
    }
   ],
   "source": [
    "for i in liTxt2:\n",
    "    print(i.text)"
   ]
  },
  {
   "cell_type": "code",
   "execution_count": 55,
   "metadata": {},
   "outputs": [
    {
     "name": "stdout",
     "output_type": "stream",
     "text": [
      "open\n",
      "close\n"
     ]
    }
   ],
   "source": [
    "tmp=bs_obj.findAll('ul')\n",
    "liTxt3=tmp[2].find_all('li')\n",
    "for i in liTxt3:\n",
    "    print(i.text)\n",
    "\n"
   ]
  },
  {
   "cell_type": "markdown",
   "metadata": {},
   "source": [
    "##### 텍스트 저장\n",
    "- 저장변수=open('디렉토리 경로/파일명.txt','w')\n",
    "- w:신규파일생성,r:읽기전용, a:데이터 추가\n",
    "- open한 파일은 close() 닫아준다."
   ]
  },
  {
   "cell_type": "code",
   "execution_count": 60,
   "metadata": {},
   "outputs": [],
   "source": [
    "txt=open('./data/bs4_html.txt','w')\n",
    "\n",
    "lis=bs_obj.find_all('li')\n",
    "for ls in lis:\n",
    "    txt.write(ls.text+'\\n') #\\n:개행, 행바꾸기, Enter을 누른 효과\n",
    "txt.close()"
   ]
  },
  {
   "cell_type": "code",
   "execution_count": 63,
   "metadata": {},
   "outputs": [],
   "source": [
    "txt=open('./data/bs4_html.txt','a')\n",
    "txt.write('python 3.8')\n",
    "txt.close()"
   ]
  },
  {
   "cell_type": "code",
   "execution_count": 64,
   "metadata": {
    "scrolled": true
   },
   "outputs": [
    {
     "data": {
      "text/html": [
       "<div>\n",
       "<style scoped>\n",
       "    .dataframe tbody tr th:only-of-type {\n",
       "        vertical-align: middle;\n",
       "    }\n",
       "\n",
       "    .dataframe tbody tr th {\n",
       "        vertical-align: top;\n",
       "    }\n",
       "\n",
       "    .dataframe thead th {\n",
       "        text-align: right;\n",
       "    }\n",
       "</style>\n",
       "<table border=\"1\" class=\"dataframe\">\n",
       "  <thead>\n",
       "    <tr style=\"text-align: right;\">\n",
       "      <th></th>\n",
       "      <th>제목</th>\n",
       "      <th>내용</th>\n",
       "    </tr>\n",
       "  </thead>\n",
       "  <tbody>\n",
       "    <tr>\n",
       "      <th>0</th>\n",
       "      <td>'코로나 확진' 가락시장·강남역 지하상가 폐쇄</td>\n",
       "      <td>시민의 발인 지하철 강남역도 코로나에 뚫렸습니다. 정주영 기자입니다. 【 기자 ...</td>\n",
       "    </tr>\n",
       "    <tr>\n",
       "      <th>1</th>\n",
       "      <td>'미화원 확진' 강남역 지하상가 오늘까지 폐쇄</td>\n",
       "      <td>강남역 지하도 상가가 오늘(10일) 밤 12시까지 폐쇄됩니다. 상가관리소 소속 ...</td>\n",
       "    </tr>\n",
       "    <tr>\n",
       "      <th>2</th>\n",
       "      <td>강남역 지하도상가 코로나19 확진자 발생</td>\n",
       "      <td>서울시와 서울시설공단은 지난 9일 강남역 지하도상가 환경미화원 1명이 신종 코로...</td>\n",
       "    </tr>\n",
       "    <tr>\n",
       "      <th>3</th>\n",
       "      <td>강남역 지하도상가 폐쇄…미화원 코로나19 확진</td>\n",
       "      <td>서울 강남 대표 번화가인 강남역 지하도상가가 폐쇄된다. 신종 코로나바이러스 감염...</td>\n",
       "    </tr>\n",
       "    <tr>\n",
       "      <th>4</th>\n",
       "      <td>서울 강남역 지하상가 내일밤까지 폐쇄…미화원 확진</td>\n",
       "      <td>12시까지 강남역지하도상가를 폐쇄한다고 밝혔습니다. 강남지하도상가관리소 소속 환...</td>\n",
       "    </tr>\n",
       "    <tr>\n",
       "      <th>5</th>\n",
       "      <td>'코로나19' 강남역도 뚫렸다…시민들 \"불안해도 안탈 수 있나\"</td>\n",
       "      <td>서울지하철 8호선 기관사, 강남역 환경미화원 등 확진 사례가 나오자 시민들은 불...</td>\n",
       "    </tr>\n",
       "    <tr>\n",
       "      <th>6</th>\n",
       "      <td>'코로나 확진' 가락시장·강남역 지하상가 폐쇄</td>\n",
       "      <td>시민의 발인 지하철 강남역도 코로나에 뚫렸습니다. 정주영 기자입니다. 【 기자 ...</td>\n",
       "    </tr>\n",
       "    <tr>\n",
       "      <th>7</th>\n",
       "      <td>서울 다중시설 곳곳서 감염…가락몰·강남역 폐쇄</td>\n",
       "      <td>강남역 지하도상가에서는 환경미화원 1명이 확진돼, 어제 오후 5시쯤부터 상가 전...</td>\n",
       "    </tr>\n",
       "    <tr>\n",
       "      <th>8</th>\n",
       "      <td>강남역 확진자 나와도…먹고 살려고 지하철 탑니다</td>\n",
       "      <td>서울지하철 8호선 기관사, 강남역 환경미화원 등 확진 사례가 나오자 시민들은 불...</td>\n",
       "    </tr>\n",
       "    <tr>\n",
       "      <th>9</th>\n",
       "      <td>[포토] 확진자 나온 서울 강남역 지하상가 일시 폐쇄</td>\n",
       "      <td>9일 신종 코로나바이러스 감염증(코로나19) 확진 판정을 받았다. 공단은 시민 ...</td>\n",
       "    </tr>\n",
       "  </tbody>\n",
       "</table>\n",
       "</div>"
      ],
      "text/plain": [
       "                                    제목  \\\n",
       "0            '코로나 확진' 가락시장·강남역 지하상가 폐쇄   \n",
       "1            '미화원 확진' 강남역 지하상가 오늘까지 폐쇄   \n",
       "2               강남역 지하도상가 코로나19 확진자 발생   \n",
       "3            강남역 지하도상가 폐쇄…미화원 코로나19 확진   \n",
       "4          서울 강남역 지하상가 내일밤까지 폐쇄…미화원 확진   \n",
       "5  '코로나19' 강남역도 뚫렸다…시민들 \"불안해도 안탈 수 있나\"   \n",
       "6            '코로나 확진' 가락시장·강남역 지하상가 폐쇄   \n",
       "7            서울 다중시설 곳곳서 감염…가락몰·강남역 폐쇄   \n",
       "8           강남역 확진자 나와도…먹고 살려고 지하철 탑니다   \n",
       "9        [포토] 확진자 나온 서울 강남역 지하상가 일시 폐쇄   \n",
       "\n",
       "                                                  내용  \n",
       "0    시민의 발인 지하철 강남역도 코로나에 뚫렸습니다. 정주영 기자입니다. 【 기자 ...  \n",
       "1    강남역 지하도 상가가 오늘(10일) 밤 12시까지 폐쇄됩니다. 상가관리소 소속 ...  \n",
       "2    서울시와 서울시설공단은 지난 9일 강남역 지하도상가 환경미화원 1명이 신종 코로...  \n",
       "3    서울 강남 대표 번화가인 강남역 지하도상가가 폐쇄된다. 신종 코로나바이러스 감염...  \n",
       "4    12시까지 강남역지하도상가를 폐쇄한다고 밝혔습니다. 강남지하도상가관리소 소속 환...  \n",
       "5    서울지하철 8호선 기관사, 강남역 환경미화원 등 확진 사례가 나오자 시민들은 불...  \n",
       "6    시민의 발인 지하철 강남역도 코로나에 뚫렸습니다. 정주영 기자입니다. 【 기자 ...  \n",
       "7    강남역 지하도상가에서는 환경미화원 1명이 확진돼, 어제 오후 5시쯤부터 상가 전...  \n",
       "8    서울지하철 8호선 기관사, 강남역 환경미화원 등 확진 사례가 나오자 시민들은 불...  \n",
       "9    9일 신종 코로나바이러스 감염증(코로나19) 확진 판정을 받았다. 공단은 시민 ...  "
      ]
     },
     "metadata": {},
     "output_type": "display_data"
    }
   ],
   "source": [
    "import requests\n",
    "from bs4 import BeautifulSoup as bs\n",
    "import pandas as pd\n",
    "url='https://search.naver.com/search.naver?where=news&sm=tab_jum&query=%EA%B0%95%EB%82%A8%EC%97%AD'\n",
    "html=requests.get(url)\n",
    "soup=bs(html.content, 'html.parser')\n",
    "li_tmp=soup.find_all('li',{'class':'bx'})\n",
    "#div_tmp=soup.find_all('div',{'class','news_area'})\n",
    "\n",
    "data=[]\n",
    "\n",
    "for i in li_tmp:\n",
    "    try:\n",
    "         \n",
    "        tit=i.find('a',{'class':'news_tit'}).text\n",
    "        dsc=i.find('div',{'class':'news_dsc'}).text\n",
    "\n",
    "        data.append([tit,dsc])\n",
    "    except:\n",
    "        continue\n",
    "    \n",
    "df1=pd.DataFrame(data,columns=['제목','내용'])\n",
    "display(df1)\n",
    "df1.to_csv('./data/강남역.csv')\n"
   ]
  },
  {
   "cell_type": "code",
   "execution_count": null,
   "metadata": {},
   "outputs": [],
   "source": []
  }
 ],
 "metadata": {
  "kernelspec": {
   "display_name": "Python 3",
   "language": "python",
   "name": "python3"
  },
  "language_info": {
   "codemirror_mode": {
    "name": "ipython",
    "version": 3
   },
   "file_extension": ".py",
   "mimetype": "text/x-python",
   "name": "python",
   "nbconvert_exporter": "python",
   "pygments_lexer": "ipython3",
   "version": "3.9.1"
  }
 },
 "nbformat": 4,
 "nbformat_minor": 4
}
