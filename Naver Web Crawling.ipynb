{
 "cells": [
  {
   "cell_type": "markdown",
   "metadata": {},
   "source": [
    "### 크롤링\n",
    "- 웹 크롤러(web crawler)에서 출발한 말로 크롤러는 무수히 많은 인터넷 상의 페이지(문서, html 등)을 수집해서 분류 및 저장한 후, 나중에 찾아보기 쉽도록 하는 일종의 로봇이다.\n",
    "- 크롤링은 웹 상의 문서를 수집해주는 작업\n",
    "### 파싱\n",
    "- 어떤 페이지(문서, html 등)에서 원하는 데이터를 특정 패턴이나 순서로 추출하여 정보로 가공하는 것을 말한다.\n",
    "### 스크래핑(scrapping)\n",
    "- 데이터를 수집하는 모든 작업"
   ]
  },
  {
   "cell_type": "code",
   "execution_count": 1,
   "metadata": {},
   "outputs": [],
   "source": [
    "import requests\n",
    "from bs4 import BeautifulSoup as bs"
   ]
  },
  {
   "cell_type": "code",
   "execution_count": 2,
   "metadata": {},
   "outputs": [],
   "source": [
    "url='https://www.naver.com'\n",
    "html=requests.get(url)\n",
    "soup=bs(html.content,'html.parser')"
   ]
  },
  {
   "cell_type": "code",
   "execution_count": 3,
   "metadata": {},
   "outputs": [
    {
     "data": {
      "text/plain": [
       "<div class=\"group_nav\">\n",
       "<ul class=\"list_nav type_fix\">\n",
       "<li class=\"nav_item\">\n",
       "<a class=\"nav\" data-clk=\"svc.mail\" href=\"https://mail.naver.com/\"><i class=\"ico_mail\"></i>메일</a>\n",
       "</li>\n",
       "<li class=\"nav_item\"><a class=\"nav\" data-clk=\"svc.cafe\" href=\"https://section.cafe.naver.com/\">카페</a></li>\n",
       "<li class=\"nav_item\"><a class=\"nav\" data-clk=\"svc.blog\" href=\"https://section.blog.naver.com/\">블로그</a></li>\n",
       "<li class=\"nav_item\"><a class=\"nav\" data-clk=\"svc.kin\" href=\"https://kin.naver.com/\">지식iN</a></li>\n",
       "<li class=\"nav_item\"><a class=\"nav\" data-clk=\"svc.shopping\" href=\"https://shopping.naver.com/\">쇼핑</a></li>\n",
       "<li class=\"nav_item\"><a class=\"nav\" data-clk=\"svc.pay\" href=\"https://order.pay.naver.com/home\">Pay</a></li>\n",
       "<li class=\"nav_item\">\n",
       "<a class=\"nav\" data-clk=\"svc.tvcast\" href=\"https://tv.naver.com/\"><i class=\"ico_tv\"></i>TV</a>\n",
       "</li>\n",
       "</ul>\n",
       "<ul class=\"list_nav NM_FAVORITE_LIST\">\n",
       "<li class=\"nav_item\"><a class=\"nav\" data-clk=\"svc.dic\" href=\"https://dict.naver.com/\">사전</a></li>\n",
       "<li class=\"nav_item\"><a class=\"nav\" data-clk=\"svc.news\" href=\"https://news.naver.com/\">뉴스</a></li>\n",
       "<li class=\"nav_item\"><a class=\"nav\" data-clk=\"svc.stock\" href=\"https://finance.naver.com/\">증권</a></li>\n",
       "<li class=\"nav_item\"><a class=\"nav\" data-clk=\"svc.land\" href=\"https://land.naver.com/\">부동산</a></li>\n",
       "<li class=\"nav_item\"><a class=\"nav\" data-clk=\"svc.map\" href=\"https://map.naver.com/\">지도</a></li>\n",
       "<li class=\"nav_item\"><a class=\"nav\" data-clk=\"svc.movie\" href=\"https://movie.naver.com/\">영화</a></li>\n",
       "<li class=\"nav_item\"><a class=\"nav\" data-clk=\"svc.vibe\" href=\"https://vibe.naver.com/\">VIBE</a>\n",
       "<li class=\"nav_item\"><a class=\"nav\" data-clk=\"svc.book\" href=\"https://book.naver.com/\">책</a></li>\n",
       "<li class=\"nav_item\"><a class=\"nav\" data-clk=\"svc.webtoon\" href=\"https://comic.naver.com/\">웹툰</a></li>\n",
       "</li></ul>\n",
       "<ul class=\"list_nav type_empty\" style=\"display: none;\"></ul>\n",
       "<a class=\"btn_more\" data-clk=\"svc.more\" href=\"#\" role=\"button\">더보기</a>\n",
       "<div class=\"ly_btn_area\">\n",
       "<a class=\"btn NM_FAVORITE_ALL\" data-clk=\"map.svcmore\" href=\"more.html\">서비스 전체보기</a>\n",
       "<a class=\"btn btn_set\" data-clk=\"map.edit\" href=\"#\" role=\"button\">메뉴설정</a>\n",
       "<a class=\"btn btn_reset\" data-clk=\"edt.reset\" href=\"#\" role=\"button\">초기화</a>\n",
       "<a class=\"btn btn_save\" data-clk=\"edt.save\" href=\"#\" role=\"button\">저장</a>\n",
       "</div>\n",
       "</div>"
      ]
     },
     "execution_count": 3,
     "metadata": {},
     "output_type": "execute_result"
    }
   ],
   "source": [
    "#soup\n",
    "htxt=soup.find('div',{'class':'group_nav'})\n",
    "htxt"
   ]
  },
  {
   "cell_type": "code",
   "execution_count": 4,
   "metadata": {},
   "outputs": [
    {
     "name": "stdout",
     "output_type": "stream",
     "text": [
      "\n",
      "메일\n",
      "\n",
      "카페\n",
      "블로그\n",
      "지식iN\n",
      "쇼핑\n",
      "Pay\n",
      "\n",
      "TV\n",
      "\n",
      "사전\n",
      "뉴스\n",
      "증권\n",
      "부동산\n",
      "지도\n",
      "영화\n",
      "VIBE\n",
      "책\n",
      "웹툰\n",
      "\n",
      "책\n",
      "웹툰\n"
     ]
    }
   ],
   "source": [
    "s=htxt.find_all('li')\n",
    "for i in s:\n",
    "    print(i.text)"
   ]
  },
  {
   "cell_type": "code",
   "execution_count": 8,
   "metadata": {},
   "outputs": [
    {
     "name": "stdout",
     "output_type": "stream",
     "text": [
      "\n",
      "메일\n",
      "\n",
      "카페\n",
      "블로그\n",
      "지식iN\n",
      "쇼핑\n",
      "Pay\n",
      "\n",
      "TV\n",
      "\n",
      "사전\n",
      "뉴스\n",
      "증권\n",
      "부동산\n",
      "지도\n",
      "영화\n",
      "VIBE\n",
      "책\n",
      "웹툰\n",
      "\n",
      "책\n",
      "웹툰\n",
      "사전\n",
      "뉴스\n",
      "증권\n",
      "부동산\n",
      "지도\n",
      "영화\n",
      "VIBE\n",
      "책\n",
      "웹툰\n",
      "\n",
      "책\n",
      "웹툰\n"
     ]
    }
   ],
   "source": [
    "import requests\n",
    "from bs4 import BeautifulSoup as bs\n",
    "url='https://www.naver.com/'\n",
    "html=requests.get(url)\n",
    "soup=bs(html.content,'html.parser')\n",
    "htxt=soup.find('div',{'class':'group_nav'})\n",
    "htxt\n",
    "#네이버 그룹 메뉴 전체\n",
    "\n",
    "li_tmps=htxt.find_all('li')\n",
    "for li in li_tmps:\n",
    "    print(li.text)\n",
    "ul_tmps=htxt.find('ul',{'class':'list_nav NM_FAVORITE_LIST'})\n",
    "li_tmps=ul_tmps.find_all('li')\n",
    "for li in li_tmps:\n",
    "    print(li.text)"
   ]
  },
  {
   "cell_type": "markdown",
   "metadata": {},
   "source": [
    "네이버"
   ]
  },
  {
   "cell_type": "markdown",
   "metadata": {},
   "source": [
    "### 네이버 주제별 내용 크롤링(위쪽 5개)"
   ]
  },
  {
   "cell_type": "code",
   "execution_count": 1,
   "metadata": {},
   "outputs": [],
   "source": [
    "import requests\n",
    "from bs4 import BeautifulSoup as bs"
   ]
  },
  {
   "cell_type": "code",
   "execution_count": 2,
   "metadata": {},
   "outputs": [],
   "source": [
    "url='https://www.naver.com/'\n",
    "html=requests.get(url)\n",
    "soup=bs(html.content,'html.parser')\n"
   ]
  },
  {
   "cell_type": "code",
   "execution_count": 3,
   "metadata": {},
   "outputs": [],
   "source": [
    "ul_tmp=soup.find('ul',{'class':'list_theme'})\n",
    "#ul_tmp"
   ]
  },
  {
   "cell_type": "code",
   "execution_count": 4,
   "metadata": {},
   "outputs": [],
   "source": [
    "a_tmps=ul_tmp.find_all('a',{'class':'theme_info'})\n",
    "#a_tmp"
   ]
  },
  {
   "cell_type": "code",
   "execution_count": 5,
   "metadata": {},
   "outputs": [
    {
     "data": {
      "text/plain": [
       "<a class=\"theme_info\" data-clk=\"tcc_fod.list1cont1\" href=\"https://blog.naver.com/slds2/222191431718\" target=\"_blank\">\n",
       "<em class=\"theme_category\"> 푸드</em>\n",
       "<strong class=\"title elss\">겨울에 먹어야 제맛! 못난이 생선 BEST 7</strong>\n",
       "<p class=\"desc\">세상에 못생긴 생선은 많고, 우리가 먹어야 할 맛있는 생선도 많다. 그중에서도 오늘 소개할 생선은 겨울에 제맛이 나는 '못난이 생선 BEST 7'에 관해 알아볼까 한다. 미리 메모해 두었다가 꼭 한 번 드셔보시기 바란다.​​1. 고무꺽정이(방언으로 망챙이라 통용)마치 에일리언을 닮은 이 물고기는 1983년에 개봉한 B급 공포영화 '데들리스판'에 등장...</p>\n",
       "<div class=\"source_box\">\n",
       "<span class=\"date\">1주일 전</span>\n",
       "<span class=\"source\"><span class=\"source_inner\">입질의 추억</span></span>\n",
       "</div>\n",
       "</a>"
      ]
     },
     "execution_count": 5,
     "metadata": {},
     "output_type": "execute_result"
    }
   ],
   "source": [
    "a_tmps[0]"
   ]
  },
  {
   "cell_type": "code",
   "execution_count": 6,
   "metadata": {},
   "outputs": [
    {
     "name": "stdout",
     "output_type": "stream",
     "text": [
      " 푸드\n",
      "겨울에 먹어야 제맛! 못난이 생선 BEST 7\n",
      "세상에 못생긴 생선은 많고, 우리가 먹어야 할 맛있는 생선도 많다. 그중에서도 오늘 소개할 생선은 겨울에 제맛이 나는 '못난이 생선 BEST 7'에 관해 알아볼까 한다. 미리 메모해 두었다가 꼭 한 번 드셔보시기 바란다.​​1. 고무꺽정이(방언으로 망챙이라 통용)마치 에일리언을 닮은 이 물고기는 1983년에 개봉한 B급 공포영화 '데들리스판'에 등장...\n",
      "1주일 전\n"
     ]
    }
   ],
   "source": [
    "print(a_tmps[0].find('em').text)\n",
    "print(a_tmps[0].find('strong').text)\n",
    "print(a_tmps[0].find('p').text)\n",
    "print(a_tmps[0].find('span').text)"
   ]
  },
  {
   "cell_type": "code",
   "execution_count": 8,
   "metadata": {},
   "outputs": [
    {
     "data": {
      "text/html": [
       "<div>\n",
       "<style scoped>\n",
       "    .dataframe tbody tr th:only-of-type {\n",
       "        vertical-align: middle;\n",
       "    }\n",
       "\n",
       "    .dataframe tbody tr th {\n",
       "        vertical-align: top;\n",
       "    }\n",
       "\n",
       "    .dataframe thead th {\n",
       "        text-align: right;\n",
       "    }\n",
       "</style>\n",
       "<table border=\"1\" class=\"dataframe\">\n",
       "  <thead>\n",
       "    <tr style=\"text-align: right;\">\n",
       "      <th></th>\n",
       "      <th>그룹</th>\n",
       "      <th>제목</th>\n",
       "      <th>내용</th>\n",
       "      <th>기간</th>\n",
       "    </tr>\n",
       "  </thead>\n",
       "  <tbody>\n",
       "    <tr>\n",
       "      <th>0</th>\n",
       "      <td>푸드</td>\n",
       "      <td>겨울에 먹어야 제맛! 못난이 생선 BEST 7</td>\n",
       "      <td>세상에 못생긴 생선은 많고, 우리가 먹어야 할 맛있는 생선도 많다. 그중에서도 오늘...</td>\n",
       "      <td>1주일 전</td>\n",
       "    </tr>\n",
       "    <tr>\n",
       "      <th>1</th>\n",
       "      <td>푸드</td>\n",
       "      <td>햄버거 3사 사이드 메뉴, 맥주 안주 최강자는?</td>\n",
       "      <td>음료보다 디저트 메뉴를 먹으러 가는 카페가 있듯, 사이드 메뉴를 먹으러 가는 패스트...</td>\n",
       "      <td>1주일 전</td>\n",
       "    </tr>\n",
       "    <tr>\n",
       "      <th>2</th>\n",
       "      <td>푸드</td>\n",
       "      <td>2021 신축년, 오뚜기 새해맞이 첫 이벤트</td>\n",
       "      <td>​2021 신축년,오뚜기 새해맞이첫 이벤트를 준비했습니다 :-)​​*안녕하세요. 오...</td>\n",
       "      <td>4일 전</td>\n",
       "    </tr>\n",
       "    <tr>\n",
       "      <th>3</th>\n",
       "      <td>푸드</td>\n",
       "      <td>나만의 레시피 선보이고, 창작 지원 포인트도 받고!</td>\n",
       "      <td>안녕하세요, 네이버 푸드입니다.2021년 첫 번째로 선보이는 푸드판 레시피 챌린지!...</td>\n",
       "      <td>1주일 전</td>\n",
       "    </tr>\n",
       "  </tbody>\n",
       "</table>\n",
       "</div>"
      ],
      "text/plain": [
       "    그룹                            제목  \\\n",
       "0   푸드     겨울에 먹어야 제맛! 못난이 생선 BEST 7   \n",
       "1   푸드    햄버거 3사 사이드 메뉴, 맥주 안주 최강자는?   \n",
       "2   푸드      2021 신축년, 오뚜기 새해맞이 첫 이벤트   \n",
       "3   푸드  나만의 레시피 선보이고, 창작 지원 포인트도 받고!   \n",
       "\n",
       "                                                  내용     기간  \n",
       "0  세상에 못생긴 생선은 많고, 우리가 먹어야 할 맛있는 생선도 많다. 그중에서도 오늘...  1주일 전  \n",
       "1  음료보다 디저트 메뉴를 먹으러 가는 카페가 있듯, 사이드 메뉴를 먹으러 가는 패스트...  1주일 전  \n",
       "2  ​2021 신축년,오뚜기 새해맞이첫 이벤트를 준비했습니다 :-)​​*안녕하세요. 오...   4일 전  \n",
       "3  안녕하세요, 네이버 푸드입니다.2021년 첫 번째로 선보이는 푸드판 레시피 챌린지!...  1주일 전  "
      ]
     },
     "execution_count": 8,
     "metadata": {},
     "output_type": "execute_result"
    }
   ],
   "source": [
    "import pandas as pd\n",
    "\n",
    "data=[]\n",
    "\n",
    "for at in a_tmps:\n",
    "    gro=at.find('em').text\n",
    "    ti=at.find('strong').text\n",
    "    by=at.find('p').text\n",
    "    date=at.find('span').text\n",
    "    data.append([gro,ti,by,date])\n",
    "data\n",
    "df1=pd.DataFrame(data,columns=['그룹','제목','내용','기간'])\n",
    "df1"
   ]
  },
  {
   "cell_type": "markdown",
   "metadata": {},
   "source": [
    "### [미션] 네이버 주제별 내용 크롤링(8개~10개)"
   ]
  },
  {
   "cell_type": "code",
   "execution_count": 46,
   "metadata": {},
   "outputs": [],
   "source": [
    "import requests\n",
    "from bs4 import BeautifulSoup as bs\n",
    "import pandas as pd"
   ]
  },
  {
   "cell_type": "code",
   "execution_count": 47,
   "metadata": {},
   "outputs": [],
   "source": [
    "url='https://www.naver.com/'\n",
    "html=requests.get(url)\n",
    "soup=bs(html.content,'html.parser')"
   ]
  },
  {
   "cell_type": "code",
   "execution_count": 48,
   "metadata": {},
   "outputs": [
    {
     "data": {
      "text/html": [
       "<div>\n",
       "<style scoped>\n",
       "    .dataframe tbody tr th:only-of-type {\n",
       "        vertical-align: middle;\n",
       "    }\n",
       "\n",
       "    .dataframe tbody tr th {\n",
       "        vertical-align: top;\n",
       "    }\n",
       "\n",
       "    .dataframe thead th {\n",
       "        text-align: right;\n",
       "    }\n",
       "</style>\n",
       "<table border=\"1\" class=\"dataframe\">\n",
       "  <thead>\n",
       "    <tr style=\"text-align: right;\">\n",
       "      <th></th>\n",
       "      <th>그룹</th>\n",
       "      <th>제목</th>\n",
       "      <th>내용</th>\n",
       "      <th>기간</th>\n",
       "    </tr>\n",
       "  </thead>\n",
       "  <tbody>\n",
       "    <tr>\n",
       "      <th>0</th>\n",
       "      <td>경제M</td>\n",
       "      <td>평범한 사람도 부자가 되는 ‘공식’이 있다?</td>\n",
       "      <td>여러분 모두 2020년 한 해, 참 힘드셨을 겁니다. 하지만 애석하게도 많은 경제학...</td>\n",
       "      <td>3일 전</td>\n",
       "    </tr>\n",
       "    <tr>\n",
       "      <th>1</th>\n",
       "      <td>경제M</td>\n",
       "      <td>'물딱지'가 '딱지' 된다니...재개발 대혼란</td>\n",
       "      <td>재개발구역에서 다주택자의 물건에 대해 각각 분양자격을 줘야 한다는 법원의 판단이 나...</td>\n",
       "      <td>3일 전</td>\n",
       "    </tr>\n",
       "    <tr>\n",
       "      <th>2</th>\n",
       "      <td>경제M</td>\n",
       "      <td>쏟아지는 ‘로또’ 신규분양…올해 알짜는 어디</td>\n",
       "      <td>39만 가구 공급…2020년보다 20%↑ 래미안원베일리·둔촌주공 등 관심 신혼부부 ...</td>\n",
       "      <td>1주일 전</td>\n",
       "    </tr>\n",
       "    <tr>\n",
       "      <th>3</th>\n",
       "      <td>경제M</td>\n",
       "      <td>왜 주식은 내가 사면 떨어지고 팔면 오를까?</td>\n",
       "      <td>우리는 주위에서 흔히 이런 사람을 목격한다. 아니 이런 사람이라는 막연한 대상이 아...</td>\n",
       "      <td>4일 전</td>\n",
       "    </tr>\n",
       "    <tr>\n",
       "      <th>4</th>\n",
       "      <td>경제M</td>\n",
       "      <td>월급여 280만원 30대 직장인 진주씨의 새는 지출 찾기</td>\n",
       "      <td>넉 달 전 친했던 직원의 개인적인 사정으로 회사를 그만두면서 진주 씨는 언제가 될지...</td>\n",
       "      <td>3일 전</td>\n",
       "    </tr>\n",
       "    <tr>\n",
       "      <th>...</th>\n",
       "      <td>...</td>\n",
       "      <td>...</td>\n",
       "      <td>...</td>\n",
       "      <td>...</td>\n",
       "    </tr>\n",
       "    <tr>\n",
       "      <th>58</th>\n",
       "      <td>부모i</td>\n",
       "      <td>\"하기 싫어\"를 달고 사는 아이, 어떻게 해야 하나요?</td>\n",
       "      <td>[대한소아청소년정신의학회] 아침에 일어나면 여러분은 제일 먼저 뭘 하시나요? 엄마들...</td>\n",
       "      <td>1개월 전</td>\n",
       "    </tr>\n",
       "    <tr>\n",
       "      <th>59</th>\n",
       "      <td>부모i</td>\n",
       "      <td>3세 아이가 규칙을 배울 수 있을까요?</td>\n",
       "      <td>QUESTION29개월 우리 아이에게 벌써 이기적인 모습이 보여서 걱정입니다. 하루...</td>\n",
       "      <td>1개월 전</td>\n",
       "    </tr>\n",
       "    <tr>\n",
       "      <th>60</th>\n",
       "      <td>부모i</td>\n",
       "      <td>인형놀이로 발달되는 공감&amp;인지 능력</td>\n",
       "      <td>#5살 #인형놀이 #인지발달 #공감능력 #언어발달 #사회성발달 #문제해결력신장 #전...</td>\n",
       "      <td>2개월 전</td>\n",
       "    </tr>\n",
       "    <tr>\n",
       "      <th>61</th>\n",
       "      <td>부모i</td>\n",
       "      <td>뜻대로 되지 않아 짜증 내는 아이 진정시키는 법</td>\n",
       "      <td>주말 저녁 시간이었어요.아이가 혼자서 뭔가에 집중하고 있길래,남편과 저는 '이때를 ...</td>\n",
       "      <td>2개월 전</td>\n",
       "    </tr>\n",
       "    <tr>\n",
       "      <th>62</th>\n",
       "      <td>부모i</td>\n",
       "      <td>친구의 진심이 느껴졌다</td>\n",
       "      <td>​​​​​​​​​​​​​​​​​옳소.!!​​​​#신생아있는지...</td>\n",
       "      <td>1개월 전</td>\n",
       "    </tr>\n",
       "  </tbody>\n",
       "</table>\n",
       "<p>63 rows × 4 columns</p>\n",
       "</div>"
      ],
      "text/plain": [
       "      그룹                               제목  \\\n",
       "0    경제M         평범한 사람도 부자가 되는 ‘공식’이 있다?   \n",
       "1    경제M        '물딱지'가 '딱지' 된다니...재개발 대혼란   \n",
       "2    경제M         쏟아지는 ‘로또’ 신규분양…올해 알짜는 어디   \n",
       "3    경제M         왜 주식은 내가 사면 떨어지고 팔면 오를까?   \n",
       "4    경제M  월급여 280만원 30대 직장인 진주씨의 새는 지출 찾기   \n",
       "..   ...                              ...   \n",
       "58   부모i   \"하기 싫어\"를 달고 사는 아이, 어떻게 해야 하나요?   \n",
       "59   부모i            3세 아이가 규칙을 배울 수 있을까요?   \n",
       "60   부모i              인형놀이로 발달되는 공감&인지 능력   \n",
       "61   부모i       뜻대로 되지 않아 짜증 내는 아이 진정시키는 법   \n",
       "62   부모i                     친구의 진심이 느껴졌다   \n",
       "\n",
       "                                                   내용     기간  \n",
       "0   여러분 모두 2020년 한 해, 참 힘드셨을 겁니다. 하지만 애석하게도 많은 경제학...   3일 전  \n",
       "1   재개발구역에서 다주택자의 물건에 대해 각각 분양자격을 줘야 한다는 법원의 판단이 나...   3일 전  \n",
       "2   39만 가구 공급…2020년보다 20%↑ 래미안원베일리·둔촌주공 등 관심 신혼부부 ...  1주일 전  \n",
       "3   우리는 주위에서 흔히 이런 사람을 목격한다. 아니 이런 사람이라는 막연한 대상이 아...   4일 전  \n",
       "4   넉 달 전 친했던 직원의 개인적인 사정으로 회사를 그만두면서 진주 씨는 언제가 될지...   3일 전  \n",
       "..                                                ...    ...  \n",
       "58  [대한소아청소년정신의학회] 아침에 일어나면 여러분은 제일 먼저 뭘 하시나요? 엄마들...  1개월 전  \n",
       "59  QUESTION29개월 우리 아이에게 벌써 이기적인 모습이 보여서 걱정입니다. 하루...  1개월 전  \n",
       "60  #5살 #인형놀이 #인지발달 #공감능력 #언어발달 #사회성발달 #문제해결력신장 #전...  2개월 전  \n",
       "61  주말 저녁 시간이었어요.아이가 혼자서 뭔가에 집중하고 있길래,남편과 저는 '이때를 ...  2개월 전  \n",
       "62  ​​​​​​​​​​​​​​​​​옳소.!!​​​​#신생아있는지...  1개월 전  \n",
       "\n",
       "[63 rows x 4 columns]"
      ]
     },
     "execution_count": 48,
     "metadata": {},
     "output_type": "execute_result"
    }
   ],
   "source": [
    "ul_tmps=soup.find_all('ul', {'class':'list_theme'})\n",
    "\n",
    "for i in range(1, 3):\n",
    "    a_tmps=ul_tmps[i].find_all('a', {'class':'theme_info'})\n",
    "    for at in a_tmps:\n",
    "        gro=at.find('em').text\n",
    "        tit=at.find('strong').text\n",
    "        by=at.find('p').text\n",
    "        date=at.find('span').text\n",
    "        data.append([gro, tit, by, date])\n",
    "    \n",
    "df1=pd.DataFrame(data, columns=['그룹','제목','내용','기간'])\n",
    "df1"
   ]
  },
  {
   "cell_type": "markdown",
   "metadata": {},
   "source": [
    "### 내용 전체 "
   ]
  },
  {
   "cell_type": "code",
   "execution_count": 49,
   "metadata": {},
   "outputs": [
    {
     "data": {
      "text/html": [
       "<div>\n",
       "<style scoped>\n",
       "    .dataframe tbody tr th:only-of-type {\n",
       "        vertical-align: middle;\n",
       "    }\n",
       "\n",
       "    .dataframe tbody tr th {\n",
       "        vertical-align: top;\n",
       "    }\n",
       "\n",
       "    .dataframe thead th {\n",
       "        text-align: right;\n",
       "    }\n",
       "</style>\n",
       "<table border=\"1\" class=\"dataframe\">\n",
       "  <thead>\n",
       "    <tr style=\"text-align: right;\">\n",
       "      <th></th>\n",
       "      <th>그룹</th>\n",
       "      <th>제목</th>\n",
       "      <th>내용</th>\n",
       "      <th>기간</th>\n",
       "    </tr>\n",
       "  </thead>\n",
       "  <tbody>\n",
       "    <tr>\n",
       "      <th>0</th>\n",
       "      <td>경제M</td>\n",
       "      <td>평범한 사람도 부자가 되는 ‘공식’이 있다?</td>\n",
       "      <td>여러분 모두 2020년 한 해, 참 힘드셨을 겁니다. 하지만 애석하게도 많은 경제학...</td>\n",
       "      <td>3일 전</td>\n",
       "    </tr>\n",
       "    <tr>\n",
       "      <th>1</th>\n",
       "      <td>경제M</td>\n",
       "      <td>'물딱지'가 '딱지' 된다니...재개발 대혼란</td>\n",
       "      <td>재개발구역에서 다주택자의 물건에 대해 각각 분양자격을 줘야 한다는 법원의 판단이 나...</td>\n",
       "      <td>3일 전</td>\n",
       "    </tr>\n",
       "    <tr>\n",
       "      <th>2</th>\n",
       "      <td>경제M</td>\n",
       "      <td>쏟아지는 ‘로또’ 신규분양…올해 알짜는 어디</td>\n",
       "      <td>39만 가구 공급…2020년보다 20%↑ 래미안원베일리·둔촌주공 등 관심 신혼부부 ...</td>\n",
       "      <td>1주일 전</td>\n",
       "    </tr>\n",
       "    <tr>\n",
       "      <th>3</th>\n",
       "      <td>경제M</td>\n",
       "      <td>왜 주식은 내가 사면 떨어지고 팔면 오를까?</td>\n",
       "      <td>우리는 주위에서 흔히 이런 사람을 목격한다. 아니 이런 사람이라는 막연한 대상이 아...</td>\n",
       "      <td>4일 전</td>\n",
       "    </tr>\n",
       "    <tr>\n",
       "      <th>4</th>\n",
       "      <td>경제M</td>\n",
       "      <td>월급여 280만원 30대 직장인 진주씨의 새는 지출 찾기</td>\n",
       "      <td>넉 달 전 친했던 직원의 개인적인 사정으로 회사를 그만두면서 진주 씨는 언제가 될지...</td>\n",
       "      <td>3일 전</td>\n",
       "    </tr>\n",
       "    <tr>\n",
       "      <th>...</th>\n",
       "      <td>...</td>\n",
       "      <td>...</td>\n",
       "      <td>...</td>\n",
       "      <td>...</td>\n",
       "    </tr>\n",
       "    <tr>\n",
       "      <th>112</th>\n",
       "      <td>부모i</td>\n",
       "      <td>초음파 볼 때마다 얼굴 가리고 있는 아기</td>\n",
       "      <td>임신 7개월 차가 되니임산부 티가 팍팍 나는가 보다.​6개월 차에는 긴가민가, 하면...</td>\n",
       "      <td>2개월 전</td>\n",
       "    </tr>\n",
       "    <tr>\n",
       "      <th>113</th>\n",
       "      <td>부모i</td>\n",
       "      <td>오늘은 아이 반찬 뭐해주지? 평범한 식단 보기</td>\n",
       "      <td>안녕하세요 기분좋은 굿필맘입니다​​아이들 반찬 어떤거 해주시나요?항상 해주면서도 고...</td>\n",
       "      <td>2개월 전</td>\n",
       "    </tr>\n",
       "    <tr>\n",
       "      <th>114</th>\n",
       "      <td>부모i</td>\n",
       "      <td>조금이라도 편하게 키울 수 있는 내돈내산 육아용품</td>\n",
       "      <td>둘째딸 단하가 태어난지 어언 두달이 훌쩍 지났다초기엔 아파서 맴찢했지만 지금은 무서...</td>\n",
       "      <td>3개월 전</td>\n",
       "    </tr>\n",
       "    <tr>\n",
       "      <th>115</th>\n",
       "      <td>부모i</td>\n",
       "      <td>하루하루 뭐 하지? 고민하며 즐긴 놀이들</td>\n",
       "      <td>안녕하세요 씐디에요 :)다들 망할 코로나때문에가정보육하고 계신분들 많으시죠​저도 임...</td>\n",
       "      <td>4개월 전</td>\n",
       "    </tr>\n",
       "    <tr>\n",
       "      <th>116</th>\n",
       "      <td>부모i</td>\n",
       "      <td>책을 좋아하는 아이로 만드는 3가지 방법</td>\n",
       "      <td>​​​안녕하세요:)연남매맘입니다 .오늘은 저희 연남매의 책이야기를 좀 해보려고 해요...</td>\n",
       "      <td>4개월 전</td>\n",
       "    </tr>\n",
       "  </tbody>\n",
       "</table>\n",
       "<p>117 rows × 4 columns</p>\n",
       "</div>"
      ],
      "text/plain": [
       "       그룹                               제목  \\\n",
       "0     경제M         평범한 사람도 부자가 되는 ‘공식’이 있다?   \n",
       "1     경제M        '물딱지'가 '딱지' 된다니...재개발 대혼란   \n",
       "2     경제M         쏟아지는 ‘로또’ 신규분양…올해 알짜는 어디   \n",
       "3     경제M         왜 주식은 내가 사면 떨어지고 팔면 오를까?   \n",
       "4     경제M  월급여 280만원 30대 직장인 진주씨의 새는 지출 찾기   \n",
       "..    ...                              ...   \n",
       "112   부모i           초음파 볼 때마다 얼굴 가리고 있는 아기   \n",
       "113   부모i        오늘은 아이 반찬 뭐해주지? 평범한 식단 보기   \n",
       "114   부모i      조금이라도 편하게 키울 수 있는 내돈내산 육아용품   \n",
       "115   부모i           하루하루 뭐 하지? 고민하며 즐긴 놀이들   \n",
       "116   부모i           책을 좋아하는 아이로 만드는 3가지 방법   \n",
       "\n",
       "                                                    내용     기간  \n",
       "0    여러분 모두 2020년 한 해, 참 힘드셨을 겁니다. 하지만 애석하게도 많은 경제학...   3일 전  \n",
       "1    재개발구역에서 다주택자의 물건에 대해 각각 분양자격을 줘야 한다는 법원의 판단이 나...   3일 전  \n",
       "2    39만 가구 공급…2020년보다 20%↑ 래미안원베일리·둔촌주공 등 관심 신혼부부 ...  1주일 전  \n",
       "3    우리는 주위에서 흔히 이런 사람을 목격한다. 아니 이런 사람이라는 막연한 대상이 아...   4일 전  \n",
       "4    넉 달 전 친했던 직원의 개인적인 사정으로 회사를 그만두면서 진주 씨는 언제가 될지...   3일 전  \n",
       "..                                                 ...    ...  \n",
       "112  임신 7개월 차가 되니임산부 티가 팍팍 나는가 보다.​6개월 차에는 긴가민가, 하면...  2개월 전  \n",
       "113  안녕하세요 기분좋은 굿필맘입니다​​아이들 반찬 어떤거 해주시나요?항상 해주면서도 고...  2개월 전  \n",
       "114  둘째딸 단하가 태어난지 어언 두달이 훌쩍 지났다초기엔 아파서 맴찢했지만 지금은 무서...  3개월 전  \n",
       "115  안녕하세요 씐디에요 :)다들 망할 코로나때문에가정보육하고 계신분들 많으시죠​저도 임...  4개월 전  \n",
       "116  ​​​안녕하세요:)연남매맘입니다 .오늘은 저희 연남매의 책이야기를 좀 해보려고 해요...  4개월 전  \n",
       "\n",
       "[117 rows x 4 columns]"
      ]
     },
     "execution_count": 49,
     "metadata": {},
     "output_type": "execute_result"
    }
   ],
   "source": [
    "ul_tmps=soup.find_all('ul', {'class':'list_theme'})\n",
    "\n",
    "for i in range(1, len(ul_tmps)):\n",
    "    a_tmps=ul_tmps[i].find_all('a', {'class':'theme_info'})\n",
    "    for at in a_tmps:\n",
    "        gro=at.find('em').text\n",
    "        tit=at.find('strong').text\n",
    "        by=at.find('p').text\n",
    "        date=at.find('span').text\n",
    "        data.append([gro, tit, by, date])\n",
    "    \n",
    "df1=pd.DataFrame(data, columns=['그룹','제목','내용','기간'])\n",
    "df1"
   ]
  }
 ],
 "metadata": {
  "kernelspec": {
   "display_name": "Python 3",
   "language": "python",
   "name": "python3"
  },
  "language_info": {
   "codemirror_mode": {
    "name": "ipython",
    "version": 3
   },
   "file_extension": ".py",
   "mimetype": "text/x-python",
   "name": "python",
   "nbconvert_exporter": "python",
   "pygments_lexer": "ipython3",
   "version": "3.7.6"
  }
 },
 "nbformat": 4,
 "nbformat_minor": 4
}
